{
 "cells": [
  {
   "cell_type": "code",
   "execution_count": null,
   "id": "870b9f88",
   "metadata": {
    "ExecuteTime": {
     "end_time": "2024-11-15T10:40:12.010668Z",
     "start_time": "2024-11-15T10:40:09.647790Z"
    }
   },
   "outputs": [],
   "source": [
    "import pandas as pd\n",
    "import geopandas as gpd\n",
    "import shapely.geometry\n",
    "from shapely import wkt\n",
    "import fiona\n",
    "import matplotlib.pyplot as plt"
   ]
  },
  {
   "cell_type": "markdown",
   "id": "ffb2e6e2",
   "metadata": {},
   "source": [
    "https://hub.arcgis.com/datasets/6996f03a1b364dbab4008d99380370ed_0/explore?location=0.969507%2C1.535162%2C1.73"
   ]
  },
  {
   "cell_type": "code",
   "execution_count": null,
   "id": "581e3033",
   "metadata": {
    "ExecuteTime": {
     "end_time": "2024-11-15T10:40:17.874079Z",
     "start_time": "2024-11-15T10:40:17.472504Z"
    }
   },
   "outputs": [],
   "source": [
    "world = gpd.read_file(\"data/World_Cities.geojson\")"
   ]
  },
  {
   "cell_type": "code",
   "execution_count": null,
   "id": "4d784d37",
   "metadata": {
    "ExecuteTime": {
     "end_time": "2024-11-14T20:22:28.607935Z",
     "start_time": "2024-11-14T20:22:28.575255Z"
    }
   },
   "outputs": [],
   "source": [
    "pop = pd.read_csv(\"processed/World_Cities_updated_0.3_Ezra.csv\")[[\"FID\",\"POP_updated\",\"POP_updated_year\"]]"
   ]
  },
  {
   "cell_type": "code",
   "execution_count": null,
   "id": "7e5de94f",
   "metadata": {
    "ExecuteTime": {
     "end_time": "2024-11-14T20:22:29.942544Z",
     "start_time": "2024-11-14T20:22:29.922009Z"
    }
   },
   "outputs": [],
   "source": [
    "# Convert the columns to integers while handling NaN values appropriately\n",
    "pop['POP_updated'] = pd.to_numeric(pop['POP_updated'], errors='coerce').astype('Int64')  # 'Int64' allows for NaN in integer columns\n",
    "pop['POP_updated_year'] = pd.to_numeric(pop['POP_updated_year'], errors='coerce').astype('Int64')"
   ]
  },
  {
   "cell_type": "code",
   "execution_count": null,
   "id": "e750e2bc",
   "metadata": {
    "ExecuteTime": {
     "end_time": "2024-11-14T20:22:33.869007Z",
     "start_time": "2024-11-14T20:22:33.846638Z"
    }
   },
   "outputs": [],
   "source": [
    "pop"
   ]
  },
  {
   "cell_type": "code",
   "execution_count": null,
   "id": "7789f71b",
   "metadata": {
    "ExecuteTime": {
     "end_time": "2024-11-14T20:22:34.729651Z",
     "start_time": "2024-11-14T20:22:34.704093Z"
    }
   },
   "outputs": [],
   "source": [
    "world = world.merge(pop, on=\"FID\", how=\"left\")"
   ]
  },
  {
   "cell_type": "code",
   "execution_count": null,
   "id": "51540651",
   "metadata": {
    "ExecuteTime": {
     "end_time": "2024-11-14T20:22:35.950493Z",
     "start_time": "2024-11-14T20:22:35.934769Z"
    }
   },
   "outputs": [],
   "source": [
    "world['capital'] = world['STATUS'].apply(lambda x: 1 if 'national' in x.lower() else 0)"
   ]
  },
  {
   "cell_type": "code",
   "execution_count": null,
   "id": "c508f4a2",
   "metadata": {
    "ExecuteTime": {
     "end_time": "2024-11-14T20:22:37.438166Z",
     "start_time": "2024-11-14T20:22:37.420430Z"
    }
   },
   "outputs": [],
   "source": [
    "world.crs"
   ]
  },
  {
   "cell_type": "code",
   "execution_count": null,
   "id": "b70cdcdf",
   "metadata": {
    "ExecuteTime": {
     "end_time": "2024-11-14T19:31:17.851759Z",
     "start_time": "2024-11-14T19:31:17.804444Z"
    }
   },
   "outputs": [],
   "source": [
    "layers = fiona.listlayers(\"data/World_Water_Bodies/v107/hydropolys.gdb\")"
   ]
  },
  {
   "cell_type": "code",
   "execution_count": null,
   "id": "8192cb71",
   "metadata": {
    "ExecuteTime": {
     "end_time": "2024-11-14T19:31:18.706908Z",
     "start_time": "2024-11-14T19:31:18.695514Z"
    }
   },
   "outputs": [],
   "source": [
    "layers"
   ]
  },
  {
   "cell_type": "markdown",
   "id": "0adf3cb4",
   "metadata": {},
   "source": [
    "https://hub.arcgis.com/content/e750071279bf450cbd510454a80f2e63/about"
   ]
  },
  {
   "cell_type": "code",
   "execution_count": null,
   "id": "5d2794da",
   "metadata": {
    "ExecuteTime": {
     "end_time": "2024-11-14T19:38:49.808898Z",
     "start_time": "2024-11-14T19:31:20.243302Z"
    }
   },
   "outputs": [],
   "source": [
    "water = gpd.read_file(\"data/World_Water_Bodies/v107/hydropolys.gdb\", layer=\"hydropolys\")"
   ]
  },
  {
   "cell_type": "code",
   "execution_count": null,
   "id": "cbd638f2",
   "metadata": {
    "ExecuteTime": {
     "end_time": "2024-11-14T19:40:52.640964Z",
     "start_time": "2024-11-14T19:40:52.587587Z"
    }
   },
   "outputs": [],
   "source": [
    "water.head()"
   ]
  },
  {
   "cell_type": "code",
   "execution_count": null,
   "id": "ad3b6f5e",
   "metadata": {
    "ExecuteTime": {
     "end_time": "2024-11-14T19:40:54.128482Z",
     "start_time": "2024-11-14T19:40:53.536519Z"
    }
   },
   "outputs": [],
   "source": [
    "water.TYPE.unique()"
   ]
  },
  {
   "cell_type": "code",
   "execution_count": null,
   "id": "c40b8c71",
   "metadata": {
    "ExecuteTime": {
     "end_time": "2024-11-14T19:40:55.293950Z",
     "start_time": "2024-11-14T19:40:55.282264Z"
    }
   },
   "outputs": [],
   "source": [
    "len(water)"
   ]
  },
  {
   "cell_type": "code",
   "execution_count": null,
   "id": "679d6718",
   "metadata": {
    "ExecuteTime": {
     "end_time": "2024-11-14T20:22:45.607578Z",
     "start_time": "2024-11-14T20:22:43.733649Z"
    }
   },
   "outputs": [],
   "source": [
    "# reproject to a projected CRS for distance calculations\n",
    "projected_crs = 'EPSG:3857'  # Web Mercator projection\n",
    "world = world.to_crs(projected_crs)\n",
    "water = water.to_crs(projected_crs)"
   ]
  },
  {
   "cell_type": "code",
   "execution_count": null,
   "id": "21051eca",
   "metadata": {
    "ExecuteTime": {
     "end_time": "2024-11-14T20:22:46.888577Z",
     "start_time": "2024-11-14T20:22:46.566708Z"
    }
   },
   "outputs": [],
   "source": [
    "sea = water[water.TYPE==\"Ocean or Sea\"]"
   ]
  },
  {
   "cell_type": "code",
   "execution_count": null,
   "id": "1e20a991",
   "metadata": {
    "ExecuteTime": {
     "end_time": "2024-11-14T20:22:47.467661Z",
     "start_time": "2024-11-14T20:22:47.430014Z"
    }
   },
   "outputs": [],
   "source": [
    "sea"
   ]
  },
  {
   "cell_type": "code",
   "execution_count": null,
   "id": "980f8852",
   "metadata": {
    "ExecuteTime": {
     "end_time": "2024-11-14T20:23:20.487580Z",
     "start_time": "2024-11-14T20:22:48.050577Z"
    }
   },
   "outputs": [],
   "source": [
    "# the nearest spatial join: https://geopandas.org/en/stable/docs/reference/api/geopandas.sjoin_nearest.html\n",
    "nearest = gpd.sjoin_nearest(world, water, how='inner', lsuffix='_city', rsuffix='_water', distance_col='distance_water')"
   ]
  },
  {
   "cell_type": "code",
   "execution_count": null,
   "id": "308c9336",
   "metadata": {
    "ExecuteTime": {
     "end_time": "2024-11-14T20:25:10.442209Z",
     "start_time": "2024-11-14T20:23:30.700625Z"
    }
   },
   "outputs": [],
   "source": [
    "nearest = gpd.sjoin_nearest(nearest, sea[['Name1','Name2','Name3','TYPE','ISO_CC','SHAPE_Length','SHAPE_Area','geometry']], how='inner', lsuffix='_waterbody', rsuffix='_sea', distance_col='distance_sea')"
   ]
  },
  {
   "cell_type": "code",
   "execution_count": null,
   "id": "0813a967",
   "metadata": {
    "ExecuteTime": {
     "end_time": "2024-11-14T20:25:47.357270Z",
     "start_time": "2024-11-14T20:25:47.279870Z"
    }
   },
   "outputs": [],
   "source": [
    "nearest.info()"
   ]
  },
  {
   "cell_type": "code",
   "execution_count": null,
   "id": "7affad26",
   "metadata": {
    "ExecuteTime": {
     "end_time": "2024-11-14T20:25:50.506697Z",
     "start_time": "2024-11-14T20:25:50.059870Z"
    }
   },
   "outputs": [],
   "source": [
    "water[water.Name1==\"Lake Michigan\"]"
   ]
  },
  {
   "cell_type": "code",
   "execution_count": null,
   "id": "cd15b938",
   "metadata": {
    "ExecuteTime": {
     "end_time": "2024-11-14T20:25:51.286546Z",
     "start_time": "2024-11-14T20:25:51.250845Z"
    }
   },
   "outputs": [],
   "source": [
    "nearest"
   ]
  },
  {
   "cell_type": "code",
   "execution_count": null,
   "id": "3fd77a84",
   "metadata": {
    "ExecuteTime": {
     "end_time": "2024-11-14T20:25:51.836425Z",
     "start_time": "2024-11-14T20:25:51.823676Z"
    }
   },
   "outputs": [],
   "source": [
    "# convert distances from meters to kilometers\n",
    "nearest['distance_water'] = nearest['distance_water'] / 1000  # Convert to kilometers"
   ]
  },
  {
   "cell_type": "code",
   "execution_count": null,
   "id": "7433d472",
   "metadata": {
    "ExecuteTime": {
     "end_time": "2024-11-14T20:25:54.508289Z",
     "start_time": "2024-11-14T20:25:54.493977Z"
    }
   },
   "outputs": [],
   "source": [
    "# convert distances from meters to kilometers\n",
    "nearest['distance_sea'] = nearest['distance_sea'] / 1000  # Convert to kilometers"
   ]
  },
  {
   "cell_type": "code",
   "execution_count": null,
   "id": "15e3aeba",
   "metadata": {
    "ExecuteTime": {
     "end_time": "2024-11-14T20:25:55.239971Z",
     "start_time": "2024-11-14T20:25:55.220283Z"
    }
   },
   "outputs": [],
   "source": [
    "df = nearest.drop(columns=['OBJECTID','PORT_ID','LABEL_FLAG'])"
   ]
  },
  {
   "cell_type": "code",
   "execution_count": null,
   "id": "b8a460d7",
   "metadata": {
    "ExecuteTime": {
     "end_time": "2024-11-14T20:25:55.815010Z",
     "start_time": "2024-11-14T20:25:55.802143Z"
    }
   },
   "outputs": [],
   "source": [
    "def rank_population(pop):\n",
    "    if pd.isna(pop): \n",
    "        return 0\n",
    "    elif pop >= 5000000:\n",
    "        return 1\n",
    "    elif 1000000 <= pop < 5000000:\n",
    "        return 2\n",
    "    elif 500000 <= pop < 1000000:\n",
    "        return 3\n",
    "    elif 250000 <= pop < 500000:\n",
    "        return 4\n",
    "    elif 100000 <= pop < 250000:\n",
    "        return 5\n",
    "    elif 50000 <= pop < 100000:\n",
    "        return 6\n",
    "    else:\n",
    "        return 7"
   ]
  },
  {
   "cell_type": "code",
   "execution_count": null,
   "id": "855d3cfc",
   "metadata": {
    "ExecuteTime": {
     "end_time": "2024-11-14T20:25:57.693063Z",
     "start_time": "2024-11-14T20:25:56.522802Z"
    }
   },
   "outputs": [],
   "source": [
    "df['POP_updated'] = pd.to_numeric(df['POP_updated'], errors='coerce')\n",
    "df['POP_rank_updated'] = df['POP_updated'].apply(rank_population)"
   ]
  },
  {
   "cell_type": "code",
   "execution_count": null,
   "id": "eb4e53b7",
   "metadata": {
    "ExecuteTime": {
     "end_time": "2024-11-14T20:25:57.695089Z",
     "start_time": "2024-11-14T20:25:57.695081Z"
    }
   },
   "outputs": [],
   "source": [
    "df"
   ]
  },
  {
   "cell_type": "code",
   "execution_count": null,
   "id": "1f68ea7b",
   "metadata": {
    "ExecuteTime": {
     "end_time": "2024-11-14T20:23:20.590506Z",
     "start_time": "2024-11-14T20:23:20.590499Z"
    }
   },
   "outputs": [],
   "source": [
    "df.POP_rank_updated.value_counts()"
   ]
  },
  {
   "cell_type": "code",
   "execution_count": null,
   "id": "8f538dde",
   "metadata": {
    "ExecuteTime": {
     "end_time": "2024-11-14T20:23:20.592064Z",
     "start_time": "2024-11-14T20:23:20.592057Z"
    }
   },
   "outputs": [],
   "source": [
    "# # to modify later - remove cities without population data and is not the capital \n",
    "df = df[~((df.capital==0)&(df.POP_rank_updated==0))] "
   ]
  },
  {
   "cell_type": "code",
   "execution_count": null,
   "id": "5ba06b59",
   "metadata": {
    "ExecuteTime": {
     "end_time": "2024-11-14T20:23:20.595253Z",
     "start_time": "2024-11-14T20:23:20.595246Z"
    }
   },
   "outputs": [],
   "source": [
    "# define a mapping for POP_RANK to radius thresholds\n",
    "thresholds = {\n",
    "    1: 40, # 5,000,000 and greater\n",
    "    2: 30, # 1,000,000 to 4,999,999\n",
    "    3: 20, # 500,000 to 999,999\n",
    "    4: 15, # 250,000 to 499,999\n",
    "    5: 10, # 100,000 to 249,999\n",
    "    6: 8, # 50,000 to 99,999\n",
    "    7: 5, # Less than 50,000\n",
    "    0: 5 #  no population data # row removed so the number does not matter\n",
    "}"
   ]
  },
  {
   "cell_type": "code",
   "execution_count": null,
   "id": "f51f1e23",
   "metadata": {
    "ExecuteTime": {
     "end_time": "2024-11-14T20:23:20.597232Z",
     "start_time": "2024-11-14T20:23:20.597225Z"
    }
   },
   "outputs": [],
   "source": [
    "# Function to determine 'type' based on POP_RANK and distance to the sea/ocean\n",
    "def determine_type(row):\n",
    "    pop_rank = row['POP_rank_updated']\n",
    "    distance = row['distance_sea']\n",
    "    \n",
    "    # Get the corresponding radius for the city's pop_rank\n",
    "    threshold = thresholds.get(pop_rank)\n",
    "    \n",
    "    # Check if distance to coast is less than the threshold\n",
    "    if distance < threshold:\n",
    "        return 'coast'\n",
    "    else:\n",
    "        return 'inland'"
   ]
  },
  {
   "cell_type": "code",
   "execution_count": null,
   "id": "fc34fea6",
   "metadata": {
    "ExecuteTime": {
     "end_time": "2024-11-14T20:23:20.598470Z",
     "start_time": "2024-11-14T20:23:20.598463Z"
    }
   },
   "outputs": [],
   "source": [
    "df['city_type'] = df.apply(determine_type, axis=1)"
   ]
  },
  {
   "cell_type": "code",
   "execution_count": null,
   "id": "ceb71a49",
   "metadata": {
    "ExecuteTime": {
     "end_time": "2024-11-14T20:23:20.600103Z",
     "start_time": "2024-11-14T20:23:20.600095Z"
    }
   },
   "outputs": [],
   "source": [
    "df.info()"
   ]
  },
  {
   "cell_type": "code",
   "execution_count": null,
   "id": "1b81454a",
   "metadata": {
    "ExecuteTime": {
     "end_time": "2024-11-14T20:23:20.601703Z",
     "start_time": "2024-11-14T20:23:20.601696Z"
    }
   },
   "outputs": [],
   "source": [
    "# df[df['FIPS_CNTRY']==\"CA\"] # Canada is all water\n",
    "us = df[df['FIPS_CNTRY']==\"US\"] "
   ]
  },
  {
   "cell_type": "code",
   "execution_count": null,
   "id": "6a4d2395",
   "metadata": {
    "ExecuteTime": {
     "end_time": "2024-11-14T20:23:20.603323Z",
     "start_time": "2024-11-14T20:23:20.603313Z"
    }
   },
   "outputs": [],
   "source": [
    "us[us.CITY_NAME==\"Chicago\"]"
   ]
  },
  {
   "cell_type": "code",
   "execution_count": null,
   "id": "2d736cea",
   "metadata": {
    "ExecuteTime": {
     "end_time": "2024-11-14T20:23:20.788646Z",
     "start_time": "2024-11-14T20:23:20.754090Z"
    }
   },
   "outputs": [],
   "source": [
    "us"
   ]
  },
  {
   "cell_type": "code",
   "execution_count": null,
   "id": "9a8325e8",
   "metadata": {
    "ExecuteTime": {
     "end_time": "2024-11-14T20:14:32.166266Z",
     "start_time": "2024-11-14T20:14:32.018150Z"
    }
   },
   "outputs": [],
   "source": [
    "fig, ax = plt.subplots()\n",
    "sea[sea.index==2487003].to_crs(epsg=4326).plot(ax=ax,color=\"lightblue\")\n",
    "us[us.capital==1].to_crs(epsg=4326).plot(ax=ax, color=\"red\", marker=\"o\", markersize=50)"
   ]
  },
  {
   "cell_type": "code",
   "execution_count": null,
   "id": "39872d98",
   "metadata": {
    "ExecuteTime": {
     "end_time": "2024-11-14T20:14:32.957997Z",
     "start_time": "2024-11-14T20:14:32.921250Z"
    },
    "scrolled": true
   },
   "outputs": [],
   "source": [
    "df[df.city_type==\"coast\"]"
   ]
  },
  {
   "cell_type": "code",
   "execution_count": null,
   "id": "3369b50f",
   "metadata": {
    "ExecuteTime": {
     "end_time": "2024-11-14T20:14:34.237501Z",
     "start_time": "2024-11-14T20:14:34.224324Z"
    }
   },
   "outputs": [],
   "source": [
    "list(df)"
   ]
  },
  {
   "cell_type": "code",
   "execution_count": null,
   "id": "947b8900",
   "metadata": {
    "ExecuteTime": {
     "end_time": "2024-11-14T20:20:24.142018Z",
     "start_time": "2024-11-14T20:20:24.100116Z"
    }
   },
   "outputs": [],
   "source": [
    "df[df.FIPS_CNTRY==\"CA\"]"
   ]
  },
  {
   "cell_type": "code",
   "execution_count": null,
   "id": "2c6392b1",
   "metadata": {
    "ExecuteTime": {
     "end_time": "2024-11-14T20:14:52.326588Z",
     "start_time": "2024-11-14T20:14:52.068290Z"
    },
    "scrolled": false
   },
   "outputs": [],
   "source": [
    "result_rows = []\n",
    "\n",
    "for country_code, group in df.groupby('FIPS_CNTRY'):\n",
    "    \n",
    "    print(country_code)\n",
    "    \n",
    "    # Find the capital city in the group\n",
    "    capital_cities = group[group['capital']==1]\n",
    "    \n",
    "    if capital_cities.empty:\n",
    "        continue  # No capital city in this country\n",
    "\n",
    "    # Assuming there is only one capital city per country\n",
    "    capital_city = capital_cities.iloc[0]\n",
    "\n",
    "    capital_type = capital_city['city_type']\n",
    "\n",
    "    # Determine the type of city to find\n",
    "    if capital_type == 'inland':\n",
    "    # Need to find a coast city\n",
    "        candidate_cities = group[group['city_type'] != 'inland']\n",
    "    else: # sea\n",
    "    # Need to find a inland city\n",
    "        candidate_cities = group[group['city_type'] == 'inland']\n",
    "       \n",
    "    # Exclude the capital city from candidate cities\n",
    "    candidate_cities = candidate_cities[candidate_cities['CITY_NAME'] != capital_city['CITY_NAME']]\n",
    "\n",
    "    if candidate_cities.empty:\n",
    "        # No suitable second city, just keep the capital city\n",
    "        result_rows.append(capital_city)\n",
    "    else:\n",
    "        # Find the city with the closest population to the capital\n",
    "        candidate_cities = candidate_cities.copy()\n",
    "        candidate_cities['pop_diff'] = (candidate_cities['POP_updated'] - capital_city['POP_updated']).abs()\n",
    "        \n",
    "        print(capital_city)\n",
    "        print(\"____\")\n",
    "        print(candidate_cities)\n",
    "\n",
    "        # Get the city with the smallest population difference\n",
    "        second_city = candidate_cities.loc[candidate_cities['pop_diff'].idxmin()]\n",
    "\n",
    "        # Append both capital city and second city\n",
    "        result_rows.extend([capital_city, second_city])\n",
    "\n",
    "# Create the result dataframe\n",
    "result = gpd.GeoDataFrame(result_rows, crs=projected_crs)"
   ]
  },
  {
   "cell_type": "code",
   "execution_count": null,
   "id": "b8cc43ab",
   "metadata": {
    "ExecuteTime": {
     "end_time": "2024-11-08T16:13:02.687368Z",
     "start_time": "2024-11-08T16:13:02.577608Z"
    }
   },
   "outputs": [],
   "source": [
    "result"
   ]
  },
  {
   "cell_type": "code",
   "execution_count": null,
   "id": "c7dc553e",
   "metadata": {
    "ExecuteTime": {
     "end_time": "2024-11-08T16:13:28.262181Z",
     "start_time": "2024-11-08T16:13:28.197224Z"
    }
   },
   "outputs": [],
   "source": [
    "result.to_csv(\"400cities_20241108.csv\", index=False)"
   ]
  },
  {
   "cell_type": "code",
   "execution_count": null,
   "id": "ce91f268",
   "metadata": {},
   "outputs": [],
   "source": []
  }
 ],
 "metadata": {
  "kernelspec": {
   "display_name": "Python 3 (ipykernel)",
   "language": "python",
   "name": "python3"
  },
  "language_info": {
   "codemirror_mode": {
    "name": "ipython",
    "version": 3
   },
   "file_extension": ".py",
   "mimetype": "text/x-python",
   "name": "python",
   "nbconvert_exporter": "python",
   "pygments_lexer": "ipython3",
   "version": "3.11.9"
  },
  "toc": {
   "base_numbering": 1,
   "nav_menu": {},
   "number_sections": false,
   "sideBar": true,
   "skip_h1_title": false,
   "title_cell": "Table of Contents",
   "title_sidebar": "Contents",
   "toc_cell": false,
   "toc_position": {},
   "toc_section_display": true,
   "toc_window_display": false
  },
  "varInspector": {
   "cols": {
    "lenName": 16,
    "lenType": 16,
    "lenVar": 40
   },
   "kernels_config": {
    "python": {
     "delete_cmd_postfix": "",
     "delete_cmd_prefix": "del ",
     "library": "var_list.py",
     "varRefreshCmd": "print(var_dic_list())"
    },
    "r": {
     "delete_cmd_postfix": ") ",
     "delete_cmd_prefix": "rm(",
     "library": "var_list.r",
     "varRefreshCmd": "cat(var_dic_list()) "
    }
   },
   "types_to_exclude": [
    "module",
    "function",
    "builtin_function_or_method",
    "instance",
    "_Feature"
   ],
   "window_display": false
  }
 },
 "nbformat": 4,
 "nbformat_minor": 5
}
